{
 "cells": [
  {
   "cell_type": "code",
   "execution_count": null,
   "metadata": {},
   "outputs": [],
   "source": [
    "import torch\n",
    "import torch.nn as nn\n",
    "from torchvision import datasets\n",
    "from torch.utils.data  import DataLoader, Dataset, Sampler\n",
    "import torchvision.transforms as transforms\n",
    "\n",
    "from tqdm import tqdm\n",
    "from typing import Optional, Tuple\n",
    "\n",
    "from rival10 import *\n",
    "RIVAL10_constants.set_rival10_dir(\"/home/ksas/Public/datasets/RIVAL10/\") # Add you own\n",
    "\n",
    "def load_local_rival10(batch_size:int = 16, \n",
    "                        num_workers:int = 4, \n",
    "                        preprocess:Optional[transforms.Compose]=None):\n",
    "\n",
    "    trainset = LocalRIVAL10(train=True, \n",
    "                            cherrypick_list=[\"img\", \"og_class_label\"],\n",
    "                            masks_dict=True, \n",
    "                            transform=preprocess,\n",
    "                            verbose = \"key\")\n",
    "    testset = LocalRIVAL10(train=False, \n",
    "                            cherrypick_list=[\"img\", \"og_class_label\"],\n",
    "                            masks_dict=True, \n",
    "                            transform=preprocess,\n",
    "                            verbose = \"key\")\n",
    "\n",
    "    class_to_idx = {c: i for (i,c) in enumerate(RIVAL10_constants._ALL_CLASSNAMES)}\n",
    "    idx_to_class = {v: k for k, v in class_to_idx.items()}\n",
    "    train_loader = DataLoader(trainset, batch_size=batch_size,\n",
    "                                shuffle=False, num_workers=num_workers)\n",
    "    test_loader = DataLoader(testset, batch_size=batch_size,\n",
    "                                shuffle=False, num_workers=num_workers)\n",
    "    \n",
    "    return trainset, testset, train_loader, test_loader, class_to_idx, idx_to_class"
   ]
  },
  {
   "cell_type": "code",
   "execution_count": null,
   "metadata": {},
   "outputs": [],
   "source": [
    "transform = transforms.Compose([\n",
    "    transforms.ToTensor(),\n",
    "    transforms.Resize(224),\n",
    "    transforms.Normalize((0.48145466, 0.4578275, 0.40821073), (0.26862954, 0.26130258, 0.27577711))\n",
    "])\n",
    "\n",
    "trainset, testset, train_loader, test_loader, class_to_idx, idx_to_class = load_local_rival10(preprocess = transform)"
   ]
  },
  {
   "cell_type": "code",
   "execution_count": null,
   "metadata": {},
   "outputs": [],
   "source": [
    "img, og_class_label = next(iter(train_loader))\n",
    "print(f\"img: {img.size()}\")\n",
    "print(f\"og_class_label: {og_class_label.size()}\")"
   ]
  }
 ],
 "metadata": {
  "kernelspec": {
   "display_name": "env_pcbm_base",
   "language": "python",
   "name": "python3"
  },
  "language_info": {
   "codemirror_mode": {
    "name": "ipython",
    "version": 3
   },
   "file_extension": ".py",
   "mimetype": "text/x-python",
   "name": "python",
   "nbconvert_exporter": "python",
   "pygments_lexer": "ipython3",
   "version": "3.12.5"
  }
 },
 "nbformat": 4,
 "nbformat_minor": 2
}
